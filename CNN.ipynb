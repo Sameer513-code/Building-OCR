{
  "nbformat": 4,
  "nbformat_minor": 0,
  "metadata": {
    "colab": {
      "provenance": [],
      "gpuType": "T4",
      "mount_file_id": "1hWEo1_g6waJ09v663UImfWgGRzCdg8EH",
      "authorship_tag": "ABX9TyO+5sOzkAXJyPHFjE6tfv/U",
      "include_colab_link": true
    },
    "kernelspec": {
      "name": "python3",
      "display_name": "Python 3"
    },
    "language_info": {
      "name": "python"
    },
    "accelerator": "GPU"
  },
  "cells": [
    {
      "cell_type": "markdown",
      "metadata": {
        "id": "view-in-github",
        "colab_type": "text"
      },
      "source": [
        "<a href=\"https://colab.research.google.com/github/Sameer513-code/Building-OCR/blob/main/CNN.ipynb\" target=\"_parent\"><img src=\"https://colab.research.google.com/assets/colab-badge.svg\" alt=\"Open In Colab\"/></a>"
      ]
    },
    {
      "cell_type": "code",
      "source": [
        "from google.colab import output\n",
        "output.enable_custom_widget_manager()\n"
      ],
      "metadata": {
        "id": "eMowB2m0PAVv"
      },
      "execution_count": 1,
      "outputs": []
    },
    {
      "cell_type": "code",
      "execution_count": 2,
      "metadata": {
        "colab": {
          "base_uri": "https://localhost:8080/"
        },
        "id": "M4E68A6fyIyf",
        "outputId": "a0fa6c1f-d260-4367-fcfe-8c6df1693975"
      },
      "outputs": [
        {
          "output_type": "stream",
          "name": "stdout",
          "text": [
            "Mounted at /content/MyDrive\n"
          ]
        }
      ],
      "source": [
        "from google.colab import drive\n",
        "drive.mount('/content/MyDrive')\n"
      ]
    },
    {
      "cell_type": "code",
      "source": [
        "import pandas as pd\n",
        "import numpy as np\n",
        "from sklearn.preprocessing import LabelEncoder\n",
        "from sklearn.model_selection import train_test_split\n",
        "\n",
        "# load csv\n",
        "df = pd.read_csv(\"/content/MyDrive/MyDrive/math_symbols_100x100.csv\", dtype={'label': str})  # <- Force label column to string\n",
        "\n",
        "# split the dataset into labels and features\n",
        "labels = df['label'].astype(str).values  # ensure that all labels column have only string data type\n",
        "features = df.drop('label', axis=1).values / 255.0\n",
        "\n",
        "# encode the characters\n",
        "le = LabelEncoder()\n",
        "labels = le.fit_transform(labels)\n",
        "\n",
        "# spliting the data, 80% train and 20% test\n",
        "X_train, X_test, y_train, y_test = train_test_split(features, labels, test_size=0.2, random_state=42)\n",
        "\n",
        "# reshape for cnn input\n",
        "X_train = X_train.reshape(-1, 100, 100, 1)\n",
        "X_test = X_test.reshape(-1, 100, 100, 1)\n"
      ],
      "metadata": {
        "id": "8phvKFCRFqpv"
      },
      "execution_count": 3,
      "outputs": []
    },
    {
      "cell_type": "code",
      "source": [
        "import tensorflow as tf\n",
        "from tensorflow.keras import layers, models\n",
        "\n",
        "#using the sequential model\n",
        "model = models.Sequential([\n",
        "          # below layer contains filters slides over the image and computes a dot product to produce a feature map\n",
        "    layers.Conv2D(32, (3, 3), activation='relu', input_shape=(100, 100, 1)),\n",
        "    layers.MaxPooling2D((2, 2)),\n",
        "\n",
        "          #these layers have no neurons, but they are like zooming in on the features and textures of the numbers\n",
        "    layers.Conv2D(64, (3, 3), activation='relu'),\n",
        "    layers.MaxPooling2D((2, 2)),\n",
        "\n",
        "    layers.Flatten(), # flatten the 2D image into 1D vector\n",
        "    layers.Dense(128, activation='relu'), #trainiable layers, where the model actually learns!!!!\n",
        "    layers.Dense(len(np.unique(y_train)), activation='softmax')  # output layer, for classification\n",
        "])\n"
      ],
      "metadata": {
        "colab": {
          "base_uri": "https://localhost:8080/"
        },
        "id": "8k3LyWKbOoNQ",
        "outputId": "6d86d6f2-2e46-41bc-c01b-fd6a10d47f61"
      },
      "execution_count": 4,
      "outputs": [
        {
          "output_type": "stream",
          "name": "stderr",
          "text": [
            "/usr/local/lib/python3.11/dist-packages/keras/src/layers/convolutional/base_conv.py:107: UserWarning: Do not pass an `input_shape`/`input_dim` argument to a layer. When using Sequential models, prefer using an `Input(shape)` object as the first layer in the model instead.\n",
            "  super().__init__(activity_regularizer=activity_regularizer, **kwargs)\n"
          ]
        }
      ]
    },
    {
      "cell_type": "code",
      "source": [
        "model.compile(optimizer='adam',\n",
        "              loss='sparse_categorical_crossentropy',\n",
        "              metrics=['accuracy'])\n"
      ],
      "metadata": {
        "id": "Ii8cjvyqOrJA"
      },
      "execution_count": 5,
      "outputs": []
    },
    {
      "cell_type": "code",
      "source": [
        "history = model.fit(X_train, y_train, epochs=20, batch_size=32,\n",
        "                    validation_data=(X_test, y_test))\n"
      ],
      "metadata": {
        "colab": {
          "base_uri": "https://localhost:8080/"
        },
        "id": "2KOvt7doOs-Z",
        "outputId": "b8965cf1-955a-4878-8e0a-ae5993f49bee"
      },
      "execution_count": 6,
      "outputs": [
        {
          "output_type": "stream",
          "name": "stdout",
          "text": [
            "Epoch 1/20\n",
            "\u001b[1m252/252\u001b[0m \u001b[32m━━━━━━━━━━━━━━━━━━━━\u001b[0m\u001b[37m\u001b[0m \u001b[1m11s\u001b[0m 22ms/step - accuracy: 0.3736 - loss: 2.1356 - val_accuracy: 0.7851 - val_loss: 0.7415\n",
            "Epoch 2/20\n",
            "\u001b[1m252/252\u001b[0m \u001b[32m━━━━━━━━━━━━━━━━━━━━\u001b[0m\u001b[37m\u001b[0m \u001b[1m4s\u001b[0m 12ms/step - accuracy: 0.8764 - loss: 0.4278 - val_accuracy: 0.8347 - val_loss: 0.5694\n",
            "Epoch 3/20\n",
            "\u001b[1m252/252\u001b[0m \u001b[32m━━━━━━━━━━━━━━━━━━━━\u001b[0m\u001b[37m\u001b[0m \u001b[1m3s\u001b[0m 12ms/step - accuracy: 0.9661 - loss: 0.1236 - val_accuracy: 0.8630 - val_loss: 0.5674\n",
            "Epoch 4/20\n",
            "\u001b[1m252/252\u001b[0m \u001b[32m━━━━━━━━━━━━━━━━━━━━\u001b[0m\u001b[37m\u001b[0m \u001b[1m3s\u001b[0m 11ms/step - accuracy: 0.9886 - loss: 0.0457 - val_accuracy: 0.8625 - val_loss: 0.6205\n",
            "Epoch 5/20\n",
            "\u001b[1m252/252\u001b[0m \u001b[32m━━━━━━━━━━━━━━━━━━━━\u001b[0m\u001b[37m\u001b[0m \u001b[1m5s\u001b[0m 11ms/step - accuracy: 0.9917 - loss: 0.0327 - val_accuracy: 0.8675 - val_loss: 0.6517\n",
            "Epoch 6/20\n",
            "\u001b[1m252/252\u001b[0m \u001b[32m━━━━━━━━━━━━━━━━━━━━\u001b[0m\u001b[37m\u001b[0m \u001b[1m5s\u001b[0m 11ms/step - accuracy: 0.9929 - loss: 0.0252 - val_accuracy: 0.8536 - val_loss: 0.7616\n",
            "Epoch 7/20\n",
            "\u001b[1m252/252\u001b[0m \u001b[32m━━━━━━━━━━━━━━━━━━━━\u001b[0m\u001b[37m\u001b[0m \u001b[1m3s\u001b[0m 11ms/step - accuracy: 0.9924 - loss: 0.0253 - val_accuracy: 0.8467 - val_loss: 0.8705\n",
            "Epoch 8/20\n",
            "\u001b[1m252/252\u001b[0m \u001b[32m━━━━━━━━━━━━━━━━━━━━\u001b[0m\u001b[37m\u001b[0m \u001b[1m5s\u001b[0m 12ms/step - accuracy: 0.9951 - loss: 0.0154 - val_accuracy: 0.8392 - val_loss: 0.9506\n",
            "Epoch 9/20\n",
            "\u001b[1m252/252\u001b[0m \u001b[32m━━━━━━━━━━━━━━━━━━━━\u001b[0m\u001b[37m\u001b[0m \u001b[1m3s\u001b[0m 12ms/step - accuracy: 0.9911 - loss: 0.0310 - val_accuracy: 0.8481 - val_loss: 0.7883\n",
            "Epoch 10/20\n",
            "\u001b[1m252/252\u001b[0m \u001b[32m━━━━━━━━━━━━━━━━━━━━\u001b[0m\u001b[37m\u001b[0m \u001b[1m3s\u001b[0m 11ms/step - accuracy: 0.9931 - loss: 0.0227 - val_accuracy: 0.8481 - val_loss: 0.8759\n",
            "Epoch 11/20\n",
            "\u001b[1m252/252\u001b[0m \u001b[32m━━━━━━━━━━━━━━━━━━━━\u001b[0m\u001b[37m\u001b[0m \u001b[1m3s\u001b[0m 11ms/step - accuracy: 0.9944 - loss: 0.0216 - val_accuracy: 0.8605 - val_loss: 0.8074\n",
            "Epoch 12/20\n",
            "\u001b[1m252/252\u001b[0m \u001b[32m━━━━━━━━━━━━━━━━━━━━\u001b[0m\u001b[37m\u001b[0m \u001b[1m5s\u001b[0m 12ms/step - accuracy: 0.9960 - loss: 0.0146 - val_accuracy: 0.8705 - val_loss: 0.7958\n",
            "Epoch 13/20\n",
            "\u001b[1m252/252\u001b[0m \u001b[32m━━━━━━━━━━━━━━━━━━━━\u001b[0m\u001b[37m\u001b[0m \u001b[1m3s\u001b[0m 11ms/step - accuracy: 0.9981 - loss: 0.0060 - val_accuracy: 0.8660 - val_loss: 0.8430\n",
            "Epoch 14/20\n",
            "\u001b[1m252/252\u001b[0m \u001b[32m━━━━━━━━━━━━━━━━━━━━\u001b[0m\u001b[37m\u001b[0m \u001b[1m5s\u001b[0m 11ms/step - accuracy: 0.9981 - loss: 0.0093 - val_accuracy: 0.8581 - val_loss: 0.8562\n",
            "Epoch 15/20\n",
            "\u001b[1m252/252\u001b[0m \u001b[32m━━━━━━━━━━━━━━━━━━━━\u001b[0m\u001b[37m\u001b[0m \u001b[1m6s\u001b[0m 15ms/step - accuracy: 0.9970 - loss: 0.0089 - val_accuracy: 0.8625 - val_loss: 0.8421\n",
            "Epoch 16/20\n",
            "\u001b[1m252/252\u001b[0m \u001b[32m━━━━━━━━━━━━━━━━━━━━\u001b[0m\u001b[37m\u001b[0m \u001b[1m4s\u001b[0m 12ms/step - accuracy: 0.9999 - loss: 0.0010 - val_accuracy: 0.8774 - val_loss: 0.8124\n",
            "Epoch 17/20\n",
            "\u001b[1m252/252\u001b[0m \u001b[32m━━━━━━━━━━━━━━━━━━━━\u001b[0m\u001b[37m\u001b[0m \u001b[1m5s\u001b[0m 11ms/step - accuracy: 1.0000 - loss: 1.5596e-04 - val_accuracy: 0.8754 - val_loss: 0.8293\n",
            "Epoch 18/20\n",
            "\u001b[1m252/252\u001b[0m \u001b[32m━━━━━━━━━━━━━━━━━━━━\u001b[0m\u001b[37m\u001b[0m \u001b[1m6s\u001b[0m 13ms/step - accuracy: 1.0000 - loss: 7.7344e-05 - val_accuracy: 0.8764 - val_loss: 0.8434\n",
            "Epoch 19/20\n",
            "\u001b[1m252/252\u001b[0m \u001b[32m━━━━━━━━━━━━━━━━━━━━\u001b[0m\u001b[37m\u001b[0m \u001b[1m5s\u001b[0m 11ms/step - accuracy: 1.0000 - loss: 5.6933e-05 - val_accuracy: 0.8774 - val_loss: 0.8546\n",
            "Epoch 20/20\n",
            "\u001b[1m252/252\u001b[0m \u001b[32m━━━━━━━━━━━━━━━━━━━━\u001b[0m\u001b[37m\u001b[0m \u001b[1m5s\u001b[0m 11ms/step - accuracy: 1.0000 - loss: 4.5520e-05 - val_accuracy: 0.8784 - val_loss: 0.8663\n"
          ]
        }
      ]
    },
    {
      "cell_type": "code",
      "source": [
        "import matplotlib.pyplot as plt\n",
        "\n",
        "plt.plot(history.history['accuracy'], label='Train Acc')\n",
        "plt.plot(history.history['val_accuracy'], label='Val Acc')\n",
        "plt.title('Accuracy over Epochs')\n",
        "plt.legend()\n",
        "plt.show()\n",
        "train_acc = history.history['accuracy'][-1]\n",
        "val_acc = history.history['val_accuracy'][-1]\n",
        "\n",
        "print(f\"Final Train Accuracy: {train_acc:.4f}\")\n",
        "print(f\"Final Validation Accuracy: {val_acc:.4f}\")\n",
        "\n"
      ],
      "metadata": {
        "colab": {
          "base_uri": "https://localhost:8080/",
          "height": 487
        },
        "id": "fUFejVgAOKuY",
        "outputId": "c8eda9c4-b26d-49ac-b296-f4294cdc1c5f"
      },
      "execution_count": 8,
      "outputs": [
        {
          "output_type": "display_data",
          "data": {
            "text/plain": [
              "<Figure size 640x480 with 1 Axes>"
            ],
            "image/png": "[encoded data removed]"
          },
          "metadata": {}
        },
        {
          "output_type": "stream",
          "name": "stdout",
          "text": [
            "Final Train Accuracy: 1.0000\n",
            "Final Validation Accuracy: 0.8784\n"
          ]
        }
      ]
    }
  ]
}